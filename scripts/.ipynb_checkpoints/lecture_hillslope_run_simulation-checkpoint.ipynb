{
 "cells": [
  {
   "cell_type": "markdown",
   "id": "8cb1a998",
   "metadata": {},
   "source": [
    "# Notebook for running some simulations\n",
    "\n",
    "In this notebook, you will: \n",
    "- 1. read a pre-define .pfidb (parflow input database file) previously obtained from a .tcl or .py script\n",
    "- 2. create a run directory and copy all needed input files (forcings, vegetation files...)\n",
    "- 3. run a simulation\n",
    "- 4. run another simulation by modifying a single parameter\n",
    "- 5. run several simulations as in a sensitivity analyse\n",
    "\n",
    "Material: \n",
    "- Parflow manual, including python's pftools: ReadTheDocs: https://parflow.readthedocs.io/en/latest/\n",
    "- Parflow front site: https://parflow.org/\n",
    "- Parflow git: https://github.com/parflow/parflow\n",
    "- Parflow blog: http://parflow.blogspot.com/\n",
    "- Parflow installation: https://github.com/parflow/parflow/wiki/Ubuntu-20.04.1-LTS---Factory-condition\n",
    "\n",
    "References: \n",
    "- **ParFlow development**: summary in : Kuffour, B.N.O., Engdahl, N.B., Woodward, C.S., Condon, L.E., Kollet, S., and Maxwell, R.M. (2020). Simulating coupled surface-subsurface flows with ParFlow v3.5.0: capabilities, applications, and ongoing development of an open-source, massively parallel, integrated hydrologic model. Geosci. Model Dev., 13(3), 1373-1397, doi:10.5194/gmd-13-1373-2020. https://gmd.copernicus.org/articles/13/1373/2020/\n",
    "\n",
    "- **ParFlow**: \n",
    "    - Kollet, S. J. and Maxwell, R. M.: Integrated surface-groundwater flow modeling: A free-surface overland flow boundary condition in a parallel groundwater flow model, Adv. Water Resour., 29, 945–958, https://doi.org/10.1016/j.advwatres.2005.08.006, 2006.\n",
    "    - Maxwell, R. M.: A terrain-following grid transform and preconditioner for parallel, large-scale, integrated hydrologic modeling, Adv. Water Resour., 53, 109–117, https://doi.org/10.1016/j.advwatres.2012.10.001, 2013. \n",
    "    - Maxwell, R. M., Condon, L. E., and Kollet, S. J.: A high-resolution simulation of groundwater and surface water over most of the continental US with the integrated hydrologic model ParFlow v3, Geosci. Model Dev., 8, 923–937, https://doi.org/10.5194/gmd-8-923-2015, 2015. \n",
    "    - Maxwell, R.M. and Condon, L.E. (2016). Connections between groundwater flow and transpiration partitioning. Science, 353(6297), 377-380. doi:10.1126/science.aaf7891.\n",
    "    \n",
    "- **CLM**: \n",
    "    - Dai, Y., Zeng, X., Dickinson, R. E., Baker, I., Bonan, G. B., Bosilovich, M. G., Denning, A. S., Dirmeyer, P. A., Houser, P. R., Niu, G., and Oleson, K. W.: The Common Land Model, B. Am. Meteorol. Soc., 84, 1013–1023, https://doi.org/10.1175/BAMS-84-8-1013, 2003. \n",
    "    - Maxwell, R. M. and Miller, N. L.: Development of a Coupled Land Surface and Groundwater Model, J. Hydrometeorol., 6, 233–247, https://doi.org/10.1175/JHM422.1, 2005. \n",
    "    - Jefferson, J. L. and Maxwell, R. M.: Evaluation of simple to complex parameterizations of bare ground evaporation, J. Adv. Model. Earth Syst., 7, 1075–1092, https://doi.org/10.1002/2014MS000398, 2015. \n",
    "    - Jefferson, J. L., Maxwell,R. M., and Constantine, P. G.: Exploring the Sensitivity of Photosynthesis and Stomatal Resistance Parameters in a Land Surface Model, J. Hydrometeorol., 18, 897–915, https://doi.org/10.1175/JHM-D-16-0053.1, 2017. "
   ]
  },
  {
   "cell_type": "code",
   "execution_count": 2,
   "id": "c4ea9373",
   "metadata": {},
   "outputs": [],
   "source": [
    "import numpy as np\n",
    "import os,glob,struct,shutil,copy\n",
    "import xarray as xr\n",
    "import pandas as pd\n",
    "import seaborn as sns\n",
    "from matplotlib import pyplot as plt"
   ]
  },
  {
   "cell_type": "code",
   "execution_count": 3,
   "id": "ce10c0e2",
   "metadata": {},
   "outputs": [],
   "source": [
    "#import pftools postproc scripts (pip install pftools)\n",
    "from parflow import Run\n",
    "#from parflow.tools.fs import exists, chdir, mkdir, cp, rm"
   ]
  },
  {
   "cell_type": "markdown",
   "id": "f910ce32",
   "metadata": {},
   "source": [
    "## 1. Read simulation data"
   ]
  },
  {
   "cell_type": "code",
   "execution_count": 4,
   "id": "c7891ecd",
   "metadata": {},
   "outputs": [],
   "source": [
    "root_dir = \"/home/hectorb/PARFLOW/PROJECTS/test_cases/hillslope/ara_bele/simus/\"\n",
    "forc_dir = \"/home/hectorb/PARFLOW/PROJECTS/test_cases/hillslope/forcings/soudanian/\""
   ]
  },
  {
   "cell_type": "markdown",
   "id": "1b6f34d8",
   "metadata": {},
   "source": [
    "The original domain definition and run setup is found in root_dir+'hillslope_sens.py' which is used to create the pfidb we will start from"
   ]
  },
  {
   "cell_type": "code",
   "execution_count": 5,
   "id": "e6bc1a73",
   "metadata": {},
   "outputs": [
    {
     "name": "stdout",
     "output_type": "stream",
     "text": [
      " => Error during CLM import - CLM specific key have been skipped\n"
     ]
    }
   ],
   "source": [
    "hill = Run.from_definition(root_dir+'hillslope.pfidb')"
   ]
  },
  {
   "cell_type": "markdown",
   "id": "67f08967",
   "metadata": {},
   "source": [
    "## 2. Prepare simulation directory"
   ]
  },
  {
   "cell_type": "code",
   "execution_count": null,
   "id": "975a77ae",
   "metadata": {},
   "outputs": [],
   "source": [
    "wdir = root_dir+'results_benchmark/'\n",
    "if os.path.exists(wdir):\n",
    "    shutil.rmtree(wdir)\n",
    "os.mkdir(wdir)"
   ]
  },
  {
   "cell_type": "code",
   "execution_count": null,
   "id": "0b71963b",
   "metadata": {},
   "outputs": [],
   "source": [
    "shutil.copy(forc_dir+'lai.dat',wdir+'lai.dat')\n",
    "shutil.copy(forc_dir+'sai.dat',wdir+'sai.dat')\n",
    "shutil.copy(forc_dir+'z0m_last_day_filled.dat',wdir+'z0m.dat')\n",
    "shutil.copy(forc_dir+'displa_last_day_filled.dat',wdir+'displa.dat')\n",
    "shutil.copy(forc_dir+'forcagePF.200706070809101112131415_forc_nal2.30mn.dat',wdir+'forcagePF.txt.0')\n",
    "shutil.copy(root_dir+'veg_map_trees.pfb',wdir+'veg_map.pfb')\n",
    "shutil.copy(root_dir+'drv_vegm_trees.dat',wdir+'drv_vegm.dat')\n",
    "shutil.copy(root_dir+'drv_vegp.dat',wdir+'drv_vegp.dat')\n",
    "shutil.copy(root_dir+'drv_clmin.dat.0',wdir+'drv_clmin.dat')\n",
    "\n",
    "# distribute files that need be distributed\n",
    "hill.dist(wdir+'veg_map.pfb')"
   ]
  },
  {
   "cell_type": "markdown",
   "id": "f1b24b2a",
   "metadata": {},
   "source": [
    "## 3. Run a simulation"
   ]
  },
  {
   "cell_type": "code",
   "execution_count": 5,
   "id": "243a4ef1",
   "metadata": {},
   "outputs": [
    {
     "ename": "NameError",
     "evalue": "name 'wdir' is not defined",
     "output_type": "error",
     "traceback": [
      "\u001b[0;31m---------------------------------------------------------------------------\u001b[0m",
      "\u001b[0;31mNameError\u001b[0m                                 Traceback (most recent call last)",
      "Input \u001b[0;32mIn [5]\u001b[0m, in \u001b[0;36m<cell line: 1>\u001b[0;34m()\u001b[0m\n\u001b[0;32m----> 1\u001b[0m hill\u001b[38;5;241m.\u001b[39mrun(working_directory\u001b[38;5;241m=\u001b[39m\u001b[43mwdir\u001b[49m,skip_validation\u001b[38;5;241m=\u001b[39m\u001b[38;5;28;01mTrue\u001b[39;00m)\n",
      "\u001b[0;31mNameError\u001b[0m: name 'wdir' is not defined"
     ]
    }
   ],
   "source": [
    "hill.run(working_directory=wdir,skip_validation=True)"
   ]
  },
  {
   "cell_type": "markdown",
   "id": "7d83b0c3",
   "metadata": {},
   "source": [
    "## 4. Run another simulation"
   ]
  },
  {
   "cell_type": "markdown",
   "id": "41acbaeb",
   "metadata": {},
   "source": [
    "First clone the simulation"
   ]
  },
  {
   "cell_type": "code",
   "execution_count": null,
   "id": "fc8cd549",
   "metadata": {},
   "outputs": [],
   "source": [
    "hill2 = hill.clone('hillslope2')"
   ]
  },
  {
   "cell_type": "markdown",
   "id": "719fc201",
   "metadata": {},
   "source": [
    "Check out a parameter value"
   ]
  },
  {
   "cell_type": "code",
   "execution_count": 6,
   "id": "d3585624",
   "metadata": {},
   "outputs": [
    {
     "data": {
      "text/plain": [
       "'Saturation'"
      ]
     },
     "execution_count": 6,
     "metadata": {},
     "output_type": "execute_result"
    }
   ],
   "source": [
    "hill.Solver.CLM.VegWaterStress"
   ]
  },
  {
   "cell_type": "markdown",
   "id": "982069fc",
   "metadata": {},
   "source": [
    "Modify parameter"
   ]
  },
  {
   "cell_type": "code",
   "execution_count": 6,
   "id": "3ec25a1e",
   "metadata": {},
   "outputs": [
    {
     "ename": "NameError",
     "evalue": "name 'hill2' is not defined",
     "output_type": "error",
     "traceback": [
      "\u001b[0;31m---------------------------------------------------------------------------\u001b[0m",
      "\u001b[0;31mNameError\u001b[0m                                 Traceback (most recent call last)",
      "Input \u001b[0;32mIn [6]\u001b[0m, in \u001b[0;36m<cell line: 1>\u001b[0;34m()\u001b[0m\n\u001b[0;32m----> 1\u001b[0m \u001b[43mhill2\u001b[49m\u001b[38;5;241m.\u001b[39mSolver\u001b[38;5;241m.\u001b[39mCLM\u001b[38;5;241m.\u001b[39mVegWaterStress \u001b[38;5;241m=\u001b[39m \u001b[38;5;28;01mNone\u001b[39;00m\n",
      "\u001b[0;31mNameError\u001b[0m: name 'hill2' is not defined"
     ]
    }
   ],
   "source": [
    "hill2.Solver.CLM.VegWaterStress = None"
   ]
  },
  {
   "cell_type": "markdown",
   "id": "c5ad6d14",
   "metadata": {},
   "source": [
    "Then create the new simulation dir"
   ]
  },
  {
   "cell_type": "code",
   "execution_count": 7,
   "id": "8e3698ba",
   "metadata": {},
   "outputs": [],
   "source": [
    "wdir = root_dir+'results_nowaterstress/'"
   ]
  },
  {
   "cell_type": "code",
   "execution_count": null,
   "id": "589e9c71",
   "metadata": {},
   "outputs": [],
   "source": [
    "if os.path.exists(wdir):\n",
    "    shutil.rmtree(wdir)\n",
    "os.mkdir(wdir)\n",
    "\n",
    "shutil.copy(forc_dir+'lai.dat',wdir+'lai.dat')\n",
    "shutil.copy(forc_dir+'sai.dat',wdir+'sai.dat')\n",
    "shutil.copy(forc_dir+'z0m_last_day_filled.dat',wdir+'z0m.dat')\n",
    "shutil.copy(forc_dir+'displa_last_day_filled.dat',wdir+'displa.dat')\n",
    "shutil.copy(forc_dir+'forcagePF.200706070809101112131415_forc_nal2.30mn.dat',wdir+'forcagePF.txt.0')\n",
    "shutil.copy(root_dir+'veg_map_trees.pfb',wdir+'veg_map.pfb')\n",
    "shutil.copy(root_dir+'drv_vegm_trees.dat',wdir+'drv_vegm.dat')\n",
    "shutil.copy(root_dir+'drv_vegp.dat',wdir+'drv_vegp.dat')\n",
    "shutil.copy(root_dir+'drv_clmin.dat.0',wdir+'drv_clmin.dat')\n",
    "\n",
    "hill2.dist(wdir+'veg_map.pfb')"
   ]
  },
  {
   "cell_type": "markdown",
   "id": "55dc4d8f",
   "metadata": {},
   "source": [
    "And run the new simulation"
   ]
  },
  {
   "cell_type": "code",
   "execution_count": null,
   "id": "1c807a7e",
   "metadata": {},
   "outputs": [],
   "source": [
    "hill2.run(working_directory=wdir,skip_validation=True)"
   ]
  },
  {
   "cell_type": "markdown",
   "id": "d2af5b8c",
   "metadata": {},
   "source": [
    "## 5. Run a sensitivity analyse"
   ]
  },
  {
   "cell_type": "markdown",
   "id": "605f6a36",
   "metadata": {},
   "source": [
    "first chose a parameter and define its variation range. Say change Ksat for horizon 2 and define a logscale range. \n",
    "\n",
    "Here any sampling method could be applied (Monte Carlon, Latin Hypercube...)\n",
    "\n",
    "Then store each sample as a dictionnary containing the parameter value, the simulation directory and the simulation object itself (a clone of the current simulation)"
   ]
  },
  {
   "cell_type": "code",
   "execution_count": 9,
   "id": "b32ef6fd",
   "metadata": {},
   "outputs": [
    {
     "data": {
      "text/plain": [
       "10"
      ]
     },
     "execution_count": 9,
     "metadata": {},
     "output_type": "execute_result"
    }
   ],
   "source": [
    "Ks = 4*np.logspace(start = -2, stop = 1, num=10, base=10)\n",
    "\n",
    "# store each sample as a dictionnary in a list.\n",
    "wdir = root_dir+'results_sens/'\n",
    "runs_list = [{'run':hill,'run_dir':wdir+'0','Ks':0.2}]\n",
    "runs_list = []\n",
    "for k,ks in enumerate(Ks):\n",
    "    runs_list.append({'run':hill.clone('h'+str(k+1)),'wdir':wdir+'_'+str(k+1),'Ks':ks})\n",
    "# print(runs)\n",
    "len(runs_list)"
   ]
  },
  {
   "cell_type": "markdown",
   "id": "79845ef2",
   "metadata": {},
   "source": [
    "Loop over this list of simulations and change the parameter value within each Run object"
   ]
  },
  {
   "cell_type": "code",
   "execution_count": null,
   "id": "e32c4d2f",
   "metadata": {},
   "outputs": [],
   "source": [
    "for i,r in enumerate(runs_list):\n",
    "    r['run'].Geom.H2.Perm.Value =r['Ks']"
   ]
  },
  {
   "cell_type": "markdown",
   "id": "9accf61d",
   "metadata": {},
   "source": [
    "Create a run function that will, for each Run object, create the run dir, copy all input files, distribute files, and run the simulation"
   ]
  },
  {
   "cell_type": "code",
   "execution_count": 10,
   "id": "204c496e",
   "metadata": {},
   "outputs": [],
   "source": [
    "def run_pf(pfrundic):\n",
    "    pfrun= pfrundic['run']\n",
    "    wdir = pfrundic['wdir']\n",
    "    #if not os.path.exists(wdir):\n",
    "    #  os.mkdir(wdir)\n",
    "    if os.path.exists(wdir):\n",
    "        shutil.rmtree(wdir)\n",
    "    os.mkdir(wdir)\n",
    "    \n",
    "    \n",
    "    shutil.copy(forc_dir+'lai.dat',wdir+'lai.dat')\n",
    "    shutil.copy(forc_dir+'sai.dat',wdir+'sai.dat')\n",
    "    shutil.copy(forc_dir+'z0m_last_day_filled.dat',wdir+'z0m.dat')\n",
    "    shutil.copy(forc_dir+'displa_last_day_filled.dat',wdir+'displa.dat')\n",
    "    shutil.copy(forc_dir+'forcagePF.200706070809101112131415_forc_nal2.30mn.dat',wdir+'forcagePF.txt.0')\n",
    "    shutil.copy(root_dir+'veg_map_trees.pfb',wdir+'veg_map.pfb')\n",
    "    shutil.copy(root_dir+'drv_vegm_trees.dat',wdir+'drv_vegm.dat')\n",
    "    shutil.copy(root_dir+'drv_vegp.dat',wdir+'drv_vegp.dat')\n",
    "    shutil.copy(root_dir+'drv_clmin.dat.0',wdir+'drv_clmin.dat')\n",
    "\n",
    "    # distribute files that need be distributed\n",
    "    pfrun.dist(wdir+'veg_map.pfb')\n",
    "    \n",
    "\n",
    "    pfrun.run(working_directory=wdir,skip_validation=True)"
   ]
  },
  {
   "cell_type": "markdown",
   "id": "f0319b37",
   "metadata": {},
   "source": [
    "option to parallelize this step. Run as many simulations simultaneously as you want (chose with 'processes')"
   ]
  },
  {
   "cell_type": "code",
   "execution_count": null,
   "id": "32dc62a5",
   "metadata": {},
   "outputs": [],
   "source": [
    "from multiprocessing import Pool \n",
    "pool = Pool(processes=1)\n",
    "pool.map(run_pf,runs)"
   ]
  }
 ],
 "metadata": {
  "kernelspec": {
   "display_name": "Python 3 (ipykernel)",
   "language": "python",
   "name": "python3"
  },
  "language_info": {
   "codemirror_mode": {
    "name": "ipython",
    "version": 3
   },
   "file_extension": ".py",
   "mimetype": "text/x-python",
   "name": "python",
   "nbconvert_exporter": "python",
   "pygments_lexer": "ipython3",
   "version": "3.10.6"
  }
 },
 "nbformat": 4,
 "nbformat_minor": 5
}
