{
 "cells": [
  {
   "cell_type": "code",
   "execution_count": null,
   "metadata": {},
   "outputs": [],
   "source": []
  },
  {
   "cell_type": "code",
   "execution_count": null,
   "metadata": {},
   "outputs": [],
   "source": [
    "filepath = '/home/tabsobam/Documents/parflow_pratice/PARFLOW_IGE/data_processing/'\n",
    "\n",
    "exec(open(filepath+'fonctions1d.py').read())"
   ]
  },
  {
   "cell_type": "code",
   "execution_count": null,
   "metadata": {},
   "outputs": [],
   "source": [
    "\n",
    "datadir_mil3_2 = '/home/tabsobam/Documents/parflow_pratice/PARFLOW_IGE/modele_1d/mil_1d_cecile/simus_mil_c_06_11_n3_2/'\n",
    "en_mil3_2 = en1_mil(datadir_mil3_2,\"en_mil_06_11_n3_2.nc\")"
   ]
  },
  {
   "cell_type": "code",
   "execution_count": null,
   "metadata": {},
   "outputs": [],
   "source": [
    "en_mil_data3_2 = pd.DataFrame({'ch_latent':np.nan,'ch_sensible':np.nan,'LWup':np.nan,\\\n",
    "  'ch_sol':np.nan,'tsol':np.nan,'t_csol':np.nan,'alb':np.nan}, index=en_mil3_2.time)\n",
    "\n",
    "en_mil_data3_2['ch_latent'] = en_mil3_2.ch_latent.mean(dim='y').values.tolist()\n",
    "en_mil_data3_2['ch_sensible'] = en_mil3_2.ch_sensible.mean(dim='y').values.tolist()\n",
    "en_mil_data3_2['LWup'] = en_mil3_2.lwrad.mean(dim='y').values.tolist()\n",
    "en_mil_data3_2['ch_sol'] = en_mil3_2.chal_sol.mean(dim='y').values.tolist()\n",
    "en_mil_data3_2['tsol'] = en_mil3_2.tsol.mean(dim='y').values.tolist()\n",
    "en_mil_data3_2['t_csol'] = en_mil3_2.t_csol.mean(dim='y').values.tolist()\n",
    "en_mil_data3_2['alb'] = en_mil3_2.surfalb.mean(dim='y').values.tolist()\n",
    "#en_mil_data3_2['Rn_sim'] = en_mil_data3_2['ch_latent'] + en_mil_data3_2['ch_sensible'] + en_mil_data3_2['ch_sol']\n",
    "\n",
    "en_mil_data3_2['SWup'] =  en_mil_data3_2['alb'] * forc_mil.Swin \n",
    "\n",
    "en_mil_data3_2['Rn_sim_out'] = en_mil_data3_2['LWup'] + en_mil_data3_2['SWup'] \n",
    "\n",
    "en_mil_data3_2['Rn_sim'] = forc_mil.Lwin  + forc_mil.Swin - (en_mil_data3_2['LWup'] + en_mil_data3_2['SWup'])\n",
    "\n",
    "\n",
    "en_mil_data3_2['H_LE'] = en_mil_data3_2['ch_sensible'] + en_mil_data3_2['ch_latent']\n",
    "en_mil_data3_2['Rn_G'] = en_mil_data3_2['Rn_sim'] - en_mil_data3_2['ch_sol']"
   ]
  },
  {
   "cell_type": "code",
   "execution_count": null,
   "metadata": {},
   "outputs": [],
   "source": [
    "\n",
    "## albedos observés\n",
    "\n",
    "obs_alb_mil_hour = obs_en_mil.alb.resample('H').mean()\n",
    "#obs_alb_mil_10_15 = obs_alb_mil_hour[(obs_alb_mil_hour.index.year==2006)&(obs_alb_mil_hour.index.hour>=10)&(obs_alb_mil_hour.index.hour<=14)]\n",
    "obs_alb_mil_10_15 = obs_alb_mil_hour[(obs_alb_mil_hour.index.hour>=10)&(obs_alb_mil_hour.index.hour<=14)]\n",
    "\n",
    "\n",
    "obs_alb_jach_hour = obs_en_jach.alb.resample('H').mean()\n",
    "#obs_alb_jach_10_15 = obs_alb_jach_hour[(obs_alb_jach_hour.index.year==2006)&(obs_alb_jach_hour.index.hour>=10)&(obs_alb_jach_hour.index.hour<=14)]\n",
    "obs_alb_jach_10_15 = obs_alb_jach_hour[(obs_alb_jach_hour.index.hour>=10)&(obs_alb_jach_hour.index.hour<=14)]\n",
    "\n",
    "\n",
    "## abedos simulés\n",
    "alb_mil_hour = en_mil_data3_2.alb.resample('H').mean()\n",
    "#alb_mil_10_15 = alb_mil_hour[(alb_mil_hour.index.year==2006)&(alb_mil_hour.index.hour>=10)&(alb_mil_hour.index.hour<=14)]\n",
    "alb_mil_10_15 = alb_mil_hour[(alb_mil_hour.index.hour>=10)&(alb_mil_hour.index.hour<=14)]\n",
    "\n",
    "\n",
    "alb_jach_hour = en_jach_data3_2.alb.resample('H').mean()\n",
    "#alb_jach_10_15 = alb_jach_hour[(alb_jach_hour.index.year==2006)&(alb_jach_hour.index.hour>=10)&(alb_jach_hour.index.hour<=14)]\n",
    "alb_jach_10_15 = alb_jach_hour[(alb_jach_hour.index.hour>=10)&(alb_jach_hour.index.hour<=14)]\n",
    "\n",
    "\n",
    "fig, ax = plt.subplots(figsize=(15,7),sharex=True)\n",
    "\n",
    "ax.plot(alb_mil_10_15.index,alb_mil_10_15)\n",
    "ax.plot(obs_alb_mil_10_15.index,obs_alb_mil_10_15)\n",
    "#ax[0].plot(alb_hum5['hum'].index,alb_hum5['hum'])\n",
    "ax.set_ylim(ymin = 0.1, ymax = 0.5)\n",
    "\n",
    "\n",
    "\n",
    "ax.legend([\"sim\",\"obs\"])\n",
    "\n",
    "\n",
    "ax.set_title(\"Comparaison albédos observés et simulés (Mil)\")\n"
   ]
  },
  {
   "cell_type": "code",
   "execution_count": null,
   "metadata": {},
   "outputs": [],
   "source": []
  },
  {
   "cell_type": "code",
   "execution_count": null,
   "metadata": {},
   "outputs": [],
   "source": []
  },
  {
   "cell_type": "code",
   "execution_count": null,
   "metadata": {},
   "outputs": [],
   "source": []
  }
 ],
 "metadata": {
  "kernelspec": {
   "display_name": "Python 3 (ipykernel)",
   "language": "python",
   "name": "python3"
  },
  "language_info": {
   "codemirror_mode": {
    "name": "ipython",
    "version": 3
   },
   "file_extension": ".py",
   "mimetype": "text/x-python",
   "name": "python",
   "nbconvert_exporter": "python",
   "pygments_lexer": "ipython3",
   "version": "3.10.6"
  },
  "vscode": {
   "interpreter": {
    "hash": "31f2aee4e71d21fbe5cf8b01ff0e069b9275f58929596ceb00d14d90e3e16cd6"
   }
  }
 },
 "nbformat": 4,
 "nbformat_minor": 2
}
